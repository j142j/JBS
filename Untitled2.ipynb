{
  "nbformat": 4,
  "nbformat_minor": 0,
  "metadata": {
    "colab": {
      "provenance": [],
      "authorship_tag": "ABX9TyOLoi6iVG4AR5ZjYOG5+jW1",
      "include_colab_link": true
    },
    "kernelspec": {
      "name": "python3",
      "display_name": "Python 3"
    },
    "language_info": {
      "name": "python"
    }
  },
  "cells": [
    {
      "cell_type": "markdown",
      "metadata": {
        "id": "view-in-github",
        "colab_type": "text"
      },
      "source": [
        "<a href=\"https://colab.research.google.com/github/j142j/JBS/blob/main/Untitled2.ipynb\" target=\"_parent\"><img src=\"https://colab.research.google.com/assets/colab-badge.svg\" alt=\"Open In Colab\"/></a>"
      ]
    },
    {
      "cell_type": "code",
      "execution_count": 11,
      "metadata": {
        "colab": {
          "base_uri": "https://localhost:8080/",
          "height": 295
        },
        "id": "NiXmahvvV666",
        "outputId": "bef0544f-99a4-42d8-8ba9-d72af6f70699"
      },
      "outputs": [
        {
          "output_type": "display_data",
          "data": {
            "text/plain": [
              "<Figure size 432x288 with 1 Axes>"
            ],
            "image/png": "[encoded data removed]"
          },
          "metadata": {
            "needs_background": "light"
          }
        }
      ],
      "source": [
        "from prompt_toolkit.widgets.base import Label\n",
        "import matplotlib.pyplot as plt\n",
        "x1 = [1, 3, 5, 7, 9]\n",
        "y1 = [2, 3, 7, 1, 0]\n",
        "x2 = [2, 4, 6, 8, 10]\n",
        "y2 = [5, 1, 3, 7, 4]\n",
        "\n",
        "titulo = 'Gráfico de barras 2'\n",
        "eixox = 'Eixo x'\n",
        "eixoy = 'Eixo y'\n",
        "# Legendas\n",
        "plt.title(titulo)\n",
        "plt.xlabel(eixox)\n",
        "plt.ylabel(eixoy)\n",
        "           \n",
        "\n",
        "plt.bar(x1, y1, label = 'Grupo 1')\n",
        "plt.bar(x2, y2, label = 'Grupo 2')\n",
        "plt.legend()\n",
        "\n",
        "plt.show()\n",
        "\n"
      ]
    }
  ]
}